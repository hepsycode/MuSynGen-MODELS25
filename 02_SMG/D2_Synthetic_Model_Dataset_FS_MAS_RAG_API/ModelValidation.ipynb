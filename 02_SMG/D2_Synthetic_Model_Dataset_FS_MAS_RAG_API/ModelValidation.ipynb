{
 "cells": [
  {
   "cell_type": "markdown",
   "id": "b875bc17-da59-4b8c-9024-fde414e3275b",
   "metadata": {},
   "source": [
    "# Python py4j conection for Model Validation"
   ]
  },
  {
   "cell_type": "markdown",
   "id": "c832c9d9-d034-48b1-9234-a70a95f35a38",
   "metadata": {},
   "source": [
    "### HEPSYCODE"
   ]
  },
  {
   "cell_type": "code",
   "execution_count": 3,
   "id": "b05413ab-043b-4280-808d-e1ffb8a76685",
   "metadata": {},
   "outputs": [
    {
     "name": "stdout",
     "output_type": "stream",
     "text": [
      "Validation Summary:\n",
      "Valid models: 0\n",
      "Models with errors: 0\n"
     ]
    }
   ],
   "source": [
    "from py4j.java_gateway import JavaGateway\n",
    "import os\n",
    "\n",
    "# Connect to the running Java EMF Validator\n",
    "gateway = JavaGateway()\n",
    "validator = gateway.entry_point\n",
    "\n",
    "# Path to the metamodel (Ecore file)\n",
    "metamodel_path = \"C:/Users/vitto/Desktop/eclipse-modeling-2019-06-R-win32-x86_64/eclipse-modeling-2024-12-R-win32-x86_64/eclipse/HEPSYCODE/workspace/org.univaq.hepsy/model/hepsy.ecore\"\n",
    "\n",
    "# Folder that contains the .hepsy model files\n",
    "models_folder = \"C:/Users/vitto/Desktop/github/Re-MASTER-LLM-MODELS/02_SMG/D2_Synthetic_Model_Dataset_FS_MAS_RAG_API/D2-HEPSYCODE/LLM-mistral-large-latest-0.3/\"\n",
    "\n",
    "# File extension to filter (without the dot)\n",
    "file_extension = \"hepsy\"\n",
    "\n",
    "# Initialize counters for valid and error models\n",
    "valid_count = 0\n",
    "error_count = 0\n",
    "\n",
    "# Iterate over all files in the folder\n",
    "for filename in os.listdir(models_folder):\n",
    "    if filename.lower().endswith(\".\" + file_extension):\n",
    "        model_path = os.path.join(models_folder, filename)\n",
    "        print(f\"Validating {model_path}\")\n",
    "        result = validator.validateModel(model_path, metamodel_path, file_extension)\n",
    "        print(f\"\\nValidation Result: {result}\\n\\n\")\n",
    "        # Check if the result contains the success message\n",
    "        if \"Validation successful: No errors found.\" in result:\n",
    "            valid_count += 1\n",
    "        else:\n",
    "            error_count += 1\n",
    "\n",
    "print(\"Validation Summary:\")\n",
    "print(f\"Valid models: {valid_count}\")\n",
    "print(f\"Models with errors: {error_count}\")"
   ]
  },
  {
   "cell_type": "markdown",
   "id": "ac635423-ebad-48f7-a9b3-85edde504976",
   "metadata": {},
   "source": [
    "### BPMN Designer"
   ]
  },
  {
   "cell_type": "code",
   "execution_count": 14,
   "id": "6c28a684-a951-40b6-b246-acb81747e6f1",
   "metadata": {},
   "outputs": [
    {
     "name": "stdout",
     "output_type": "stream",
     "text": [
      "Validating C:/Users/vitto/Desktop/github/Re-MASTER-LLM-MODELS/02_SMG/D2_Synthetic_Model_Dataset_FS_MAS_RAG_API/D2-BPMN-Designer/LLM-mistral-large-latest-0.0/ex00_writer0001.bpmn\n",
      "\n",
      "Validation Result: Validation successful: No errors found.\n",
      "\n",
      "\n",
      "Validating C:/Users/vitto/Desktop/github/Re-MASTER-LLM-MODELS/02_SMG/D2_Synthetic_Model_Dataset_FS_MAS_RAG_API/D2-BPMN-Designer/LLM-mistral-large-latest-0.0/ex01_writer0001.bpmn\n",
      "\n",
      "Validation Result: Validation successful: No errors found.\n",
      "\n",
      "\n",
      "Validating C:/Users/vitto/Desktop/github/Re-MASTER-LLM-MODELS/02_SMG/D2_Synthetic_Model_Dataset_FS_MAS_RAG_API/D2-BPMN-Designer/LLM-mistral-large-latest-0.0/ex02_writer0001.bpmn\n",
      "\n",
      "Validation Result: Validation error: org.eclipse.emf.ecore.xmi.UnresolvedReferenceException: Unresolved reference '_KeNFoI8KEe-v648egk3nxQ'. (file:/C:/Users/vitto/Desktop/github/Re-MASTER-LLM-MODELS/02_SMG/D2_Synthetic_Model_Dataset_FS_MAS_RAG_API/D2-BPMN-Designer/LLM-mistral-large-latest-0.0/ex02_writer0001.bpmn, 11, 176)\n",
      "\n",
      "\n",
      "Validating C:/Users/vitto/Desktop/github/Re-MASTER-LLM-MODELS/02_SMG/D2_Synthetic_Model_Dataset_FS_MAS_RAG_API/D2-BPMN-Designer/LLM-mistral-large-latest-0.0/ex03_writer0001.bpmn\n",
      "\n",
      "Validation Result: Validation successful: No errors found.\n",
      "\n",
      "\n",
      "Validating C:/Users/vitto/Desktop/github/Re-MASTER-LLM-MODELS/02_SMG/D2_Synthetic_Model_Dataset_FS_MAS_RAG_API/D2-BPMN-Designer/LLM-mistral-large-latest-0.0/ex04_writer0008.bpmn\n",
      "\n",
      "Validation Result: Validation successful: No errors found.\n",
      "\n",
      "\n",
      "Validating C:/Users/vitto/Desktop/github/Re-MASTER-LLM-MODELS/02_SMG/D2_Synthetic_Model_Dataset_FS_MAS_RAG_API/D2-BPMN-Designer/LLM-mistral-large-latest-0.0/ex05_writer0013.bpmn\n",
      "\n",
      "Validation Result: Validation error: org.eclipse.emf.ecore.xmi.UnresolvedReferenceException: Unresolved reference '_EYfEkI8KEe-v648egk3nxQ'. (file:/C:/Users/vitto/Desktop/github/Re-MASTER-LLM-MODELS/02_SMG/D2_Synthetic_Model_Dataset_FS_MAS_RAG_API/D2-BPMN-Designer/LLM-mistral-large-latest-0.0/ex05_writer0013.bpmn, 19, 199)\n",
      "\n",
      "\n",
      "Validating C:/Users/vitto/Desktop/github/Re-MASTER-LLM-MODELS/02_SMG/D2_Synthetic_Model_Dataset_FS_MAS_RAG_API/D2-BPMN-Designer/LLM-mistral-large-latest-0.0/ex07_writer0000.bpmn\n",
      "\n",
      "Validation Result: Validation successful: No errors found.\n",
      "\n",
      "\n",
      "Validating C:/Users/vitto/Desktop/github/Re-MASTER-LLM-MODELS/02_SMG/D2_Synthetic_Model_Dataset_FS_MAS_RAG_API/D2-BPMN-Designer/LLM-mistral-large-latest-0.0/ex08_writer0000.bpmn\n",
      "\n",
      "Validation Result: Validation error: org.eclipse.emf.ecore.xmi.FeatureNotFoundException: Feature 'Process' not found. (file:/C:/Users/vitto/Desktop/github/Re-MASTER-LLM-MODELS/02_SMG/D2_Synthetic_Model_Dataset_FS_MAS_RAG_API/D2-BPMN-Designer/LLM-mistral-large-latest-0.0/ex08_writer0000.bpmn, 3, 147)\n",
      "\n",
      "\n",
      "Validating C:/Users/vitto/Desktop/github/Re-MASTER-LLM-MODELS/02_SMG/D2_Synthetic_Model_Dataset_FS_MAS_RAG_API/D2-BPMN-Designer/LLM-mistral-large-latest-0.0/ex09_writer0002.bpmn\n",
      "\n",
      "Validation Result: Validation successful: No errors found.\n",
      "\n",
      "\n",
      "Validation Summary:\n",
      "Valid models: 6\n",
      "Models with errors: 3\n"
     ]
    }
   ],
   "source": [
    "from py4j.java_gateway import JavaGateway\n",
    "import os\n",
    "\n",
    "# Connect to the running Java EMF Validator\n",
    "gateway = JavaGateway()\n",
    "validator = gateway.entry_point\n",
    "\n",
    "# Path to the metamodel (Ecore file)\n",
    "metamodel_path = \"C:/Users/vitto/Desktop/eclipse-modeling-2019-06-R-win32-x86_64/eclipse-modeling-2024-12-R-win32-x86_64/eclipse/workspace/org.obeonetwork.dsl.bpmn2/model/BPMN20.ecore\"\n",
    "\n",
    "# Folder that contains the .bpmn model files\n",
    "models_folder = \"C:/Users/vitto/Desktop/github/Re-MASTER-LLM-MODELS/02_SMG/D2_Synthetic_Model_Dataset_FS_MAS_RAG_API/D2-BPMN-Designer/LLM-mistral-large-latest-0.0/\"\n",
    "\n",
    "# File extension to filter (without the dot)\n",
    "file_extension = \"bpmn\"\n",
    "\n",
    "# Initialize counters for valid and error models\n",
    "valid_count = 0\n",
    "error_count = 0\n",
    "\n",
    "# Iterate over all files in the folder\n",
    "for filename in os.listdir(models_folder):\n",
    "    if filename.lower().endswith(\".\" + file_extension):\n",
    "        model_path = os.path.join(models_folder, filename)\n",
    "        print(f\"Validating {model_path}\")\n",
    "        result = validator.validateModel(model_path, metamodel_path, file_extension)\n",
    "        print(f\"\\nValidation Result: {result}\\n\\n\")\n",
    "        # Check if the result contains the success message\n",
    "        if \"Validation successful: No errors found.\" in result:\n",
    "            valid_count += 1\n",
    "        else:\n",
    "            error_count += 1\n",
    "\n",
    "print(\"Validation Summary:\")\n",
    "print(f\"Valid models: {valid_count}\")\n",
    "print(f\"Models with errors: {error_count}\")"
   ]
  },
  {
   "cell_type": "code",
   "execution_count": null,
   "id": "49df8874-9759-4697-9bb7-e2fa091e629f",
   "metadata": {},
   "outputs": [],
   "source": []
  }
 ],
 "metadata": {
  "kernelspec": {
   "display_name": "py39",
   "language": "python",
   "name": "py39"
  },
  "language_info": {
   "codemirror_mode": {
    "name": "ipython",
    "version": 3
   },
   "file_extension": ".py",
   "mimetype": "text/x-python",
   "name": "python",
   "nbconvert_exporter": "python",
   "pygments_lexer": "ipython3",
   "version": "3.9.19"
  }
 },
 "nbformat": 4,
 "nbformat_minor": 5
}
