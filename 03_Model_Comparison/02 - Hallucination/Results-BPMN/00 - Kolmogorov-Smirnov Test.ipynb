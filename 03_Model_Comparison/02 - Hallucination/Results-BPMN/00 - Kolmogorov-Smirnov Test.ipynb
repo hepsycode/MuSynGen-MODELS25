{
 "cells": [
  {
   "cell_type": "code",
   "execution_count": 5,
   "id": "863f0239",
   "metadata": {},
   "outputs": [
    {
     "name": "stdout",
     "output_type": "stream",
     "text": [
      "Kolmogorov-Smirnov Test Results:\n",
      "KS Statistic: 0.16037761117673371\n",
      "P-Value: 0.00475421678084968\n",
      "No significant difference between the distributions (p >= 0.001).\n"
     ]
    }
   ],
   "source": [
    "import pandas as pd\n",
    "from scipy.stats import ks_2samp\n",
    "\n",
    "# Load two CSV files with sample distributions\n",
    "def load_csv_data(file_path):\n",
    "    \"\"\"\n",
    "    Load data from a CSV file and return the values as a list.\n",
    "\n",
    "    Args:\n",
    "        file_path (str): Path to the CSV file.\n",
    "\n",
    "    Returns:\n",
    "        list: List of values from the specified column in the CSV file.\n",
    "    \"\"\"\n",
    "    try:\n",
    "        data = pd.read_csv(file_path)\n",
    "        # Assuming the data is in the first column; adjust column name if needed\n",
    "        column_name = data.columns[4]\n",
    "        return data[column_name].dropna().tolist()\n",
    "    except Exception as e:\n",
    "        print(f\"Error reading the file {file_path}: {e}\")\n",
    "        return []\n",
    "\n",
    "# Perform Kolmogorov-Smirnov test\n",
    "def perform_ks_test(data1, data2):\n",
    "    \"\"\"\n",
    "    Perform the Kolmogorov-Smirnov test for two distributions.\n",
    "\n",
    "    Args:\n",
    "        data1 (list): First distribution sample.\n",
    "        data2 (list): Second distribution sample.\n",
    "\n",
    "    Returns:\n",
    "        dict: Test statistic and p-value.\n",
    "    \"\"\"\n",
    "    ks_statistic, p_value = ks_2samp(data1, data2)\n",
    "    return {\n",
    "        \"ks_statistic\": ks_statistic,\n",
    "        \"p_value\": p_value\n",
    "    }\n",
    "\n",
    "# Load data from CSV files\n",
    "data1 = load_csv_data(\"Aggregated_Human.csv\")\n",
    "data2 = load_csv_data(\"Aggregated_LLM.csv\")\n",
    "\n",
    "if not data1 or not data2:\n",
    "    print(\"Error: Failed to load data from one or both files.\")\n",
    "else:\n",
    "    # Perform KS test\n",
    "    results = perform_ks_test(data1, data2)\n",
    "\n",
    "    # Display results\n",
    "    print(\"Kolmogorov-Smirnov Test Results:\")\n",
    "    print(f\"KS Statistic: {results['ks_statistic']}\")\n",
    "    print(f\"P-Value: {results['p_value']}\")\n",
    "\n",
    "    # Interpret the result\n",
    "    if results['p_value'] < 0.001:\n",
    "        print(\"The distributions are significantly different (p < 0.001).\")\n",
    "    else:\n",
    "        print(\"No significant difference between the distributions (p >= 0.001).\")\n"
   ]
  },
  {
   "cell_type": "code",
   "execution_count": null,
   "id": "4da376b8",
   "metadata": {},
   "outputs": [],
   "source": []
  }
 ],
 "metadata": {
  "kernelspec": {
   "display_name": "Python 3 (ipykernel)",
   "language": "python",
   "name": "python3"
  },
  "language_info": {
   "codemirror_mode": {
    "name": "ipython",
    "version": 3
   },
   "file_extension": ".py",
   "mimetype": "text/x-python",
   "name": "python",
   "nbconvert_exporter": "python",
   "pygments_lexer": "ipython3",
   "version": "3.9.19"
  }
 },
 "nbformat": 4,
 "nbformat_minor": 5
}
